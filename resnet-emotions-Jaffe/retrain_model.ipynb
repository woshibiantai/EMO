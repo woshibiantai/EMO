{
 "cells": [
  {
   "cell_type": "code",
   "execution_count": 1,
   "metadata": {},
   "outputs": [
    {
     "name": "stderr",
     "output_type": "stream",
     "text": [
      "C:\\Users\\jonathanWindowsHome\\Anaconda3\\envs\\tflearn-gpu\\lib\\site-packages\\h5py\\__init__.py:36: FutureWarning: Conversion of the second argument of issubdtype from `float` to `np.floating` is deprecated. In future, it will be treated as `np.float64 == np.dtype(float).type`.\n",
      "  from ._conv import register_converters as _register_converters\n"
     ]
    },
    {
     "name": "stdout",
     "output_type": "stream",
     "text": [
      "WARNING:tensorflow:From C:\\Users\\jonathanWindowsHome\\Anaconda3\\envs\\tflearn-gpu\\lib\\site-packages\\tensorflow\\contrib\\learn\\python\\learn\\datasets\\base.py:198: retry (from tensorflow.contrib.learn.python.learn.datasets.base) is deprecated and will be removed in a future version.\n",
      "Instructions for updating:\n",
      "Use the retry module or similar alternatives.\n",
      "curses is not supported on this machine (please install/reinstall curses for an optimal experience)\n",
      "loading data\n",
      "done loading data\n",
      "reshaping images\n",
      "one-hot encoding the labels\n",
      "real time image processing of image data\n",
      "real time data augmentation\n",
      "building ResNet\n",
      "WARNING:tensorflow:From C:\\Users\\jonathanWindowsHome\\Anaconda3\\envs\\tflearn-gpu\\lib\\site-packages\\tflearn\\initializations.py:119: UniformUnitScaling.__init__ (from tensorflow.python.ops.init_ops) is deprecated and will be removed in a future version.\n",
      "Instructions for updating:\n",
      "Use tf.initializers.variance_scaling instead with distribution=uniform to get equivalent behavior.\n"
     ]
    },
    {
     "ename": "TypeError",
     "evalue": "activation() got an unexpected keyword argument 'trainable'",
     "output_type": "error",
     "traceback": [
      "\u001b[1;31m---------------------------------------------------------------------------\u001b[0m",
      "\u001b[1;31mTypeError\u001b[0m                                 Traceback (most recent call last)",
      "\u001b[1;32m<ipython-input-1-e34bd50f9932>\u001b[0m in \u001b[0;36m<module>\u001b[1;34m()\u001b[0m\n\u001b[0;32m     53\u001b[0m     \u001b[0mnet\u001b[0m \u001b[1;33m=\u001b[0m \u001b[0mtflearn\u001b[0m\u001b[1;33m.\u001b[0m\u001b[0mresidual_block\u001b[0m\u001b[1;33m(\u001b[0m\u001b[0mnet\u001b[0m\u001b[1;33m,\u001b[0m \u001b[0mn\u001b[0m\u001b[1;33m-\u001b[0m\u001b[1;36m1\u001b[0m\u001b[1;33m,\u001b[0m \u001b[1;36m64\u001b[0m\u001b[1;33m,\u001b[0m \u001b[0mtrainable\u001b[0m\u001b[1;33m=\u001b[0m\u001b[1;32mFalse\u001b[0m\u001b[1;33m)\u001b[0m\u001b[1;33m\u001b[0m\u001b[0m\n\u001b[0;32m     54\u001b[0m     \u001b[0mnet\u001b[0m \u001b[1;33m=\u001b[0m \u001b[0mtflearn\u001b[0m\u001b[1;33m.\u001b[0m\u001b[0mbatch_normalization\u001b[0m\u001b[1;33m(\u001b[0m\u001b[0mnet\u001b[0m\u001b[1;33m)\u001b[0m\u001b[1;33m\u001b[0m\u001b[0m\n\u001b[1;32m---> 55\u001b[1;33m     \u001b[0mnet\u001b[0m \u001b[1;33m=\u001b[0m \u001b[0mtflearn\u001b[0m\u001b[1;33m.\u001b[0m\u001b[0mactivation\u001b[0m\u001b[1;33m(\u001b[0m\u001b[0mnet\u001b[0m\u001b[1;33m,\u001b[0m \u001b[1;34m'relu'\u001b[0m\u001b[1;33m,\u001b[0m \u001b[0mtrainable\u001b[0m\u001b[1;33m=\u001b[0m\u001b[1;32mFalse\u001b[0m\u001b[1;33m)\u001b[0m\u001b[1;33m\u001b[0m\u001b[0m\n\u001b[0m\u001b[0;32m     56\u001b[0m     \u001b[0mnet\u001b[0m \u001b[1;33m=\u001b[0m \u001b[0mtflearn\u001b[0m\u001b[1;33m.\u001b[0m\u001b[0mglobal_avg_pool\u001b[0m\u001b[1;33m(\u001b[0m\u001b[0mnet\u001b[0m\u001b[1;33m)\u001b[0m\u001b[1;33m\u001b[0m\u001b[0m\n\u001b[0;32m     57\u001b[0m \u001b[1;33m\u001b[0m\u001b[0m\n",
      "\u001b[1;31mTypeError\u001b[0m: activation() got an unexpected keyword argument 'trainable'"
     ]
    }
   ],
   "source": [
    "# A large portion of this code comes from the tf-learn example page:\n",
    "# https://github.com/tflearn/tflearn/blob/master/examples/images/residual_network_cifar10.py\n",
    "\n",
    "import tflearn\n",
    "import numpy as np\n",
    "from numpy import genfromtxt\n",
    "from tflearn.data_preprocessing import ImagePreprocessing\n",
    "\n",
    "\n",
    "if __name__ == \"__main__\":\n",
    "    n = 5\n",
    "    print(\"loading data\")\n",
    "    # Data loading and pre-processing\n",
    "    X = np.asarray(genfromtxt('JAFFE-data/training_data.csv', delimiter=' ',  skip_header=1,  dtype=float))\n",
    "    Y = np.asarray(genfromtxt('JAFFE-data/training_labels.csv', delimiter=' ', skip_header=1, dtype=int))\n",
    "\n",
    "    X_test = np.asarray(genfromtxt('data/Test_Data.csv', delimiter=' ',  skip_header=1,  dtype=float))\n",
    "    Y_test = np.asarray(genfromtxt('data/Test_Labels.csv', delimiter=' ', skip_header=1, dtype=int))\n",
    "    predict_value = np.asarray(genfromtxt('data/test_image.csv', delimiter=' ', dtype=float))\n",
    "\n",
    "    print(\"done loading data\")\n",
    "    print(\"reshaping images\")\n",
    "    predict_value = predict_value.reshape([-1, 48, 48, 1])\n",
    "\n",
    "    # Reshape the images into 48x4\n",
    "    X = X.reshape([-1, 48, 48, 1])\n",
    "    X_test = X_test.reshape([-1, 48, 48, 1])\n",
    "\n",
    "    print(\"one-hot encoding the labels\")\n",
    "    # One hot encode the labels\n",
    "    Y = tflearn.data_utils.to_categorical(Y, 7)\n",
    "    Y_test = tflearn.data_utils.to_categorical(Y_test, 7)\n",
    "\n",
    "    print(\"real time image processing of image data\")\n",
    "    # Real-time preprocessing of the image data\n",
    "    img_prep = ImagePreprocessing()\n",
    "    img_prep.add_featurewise_zero_center()\n",
    "    img_prep.add_featurewise_stdnorm()\n",
    "\n",
    "    print(\"real time data augmentation\")\n",
    "    # Real-time data augmentation\n",
    "    img_aug = tflearn.ImageAugmentation()\n",
    "    img_aug.add_random_flip_leftright()\n",
    "\n",
    "    print(\"building ResNet\")\n",
    "    # Building Residual Network\n",
    "    net = tflearn.input_data(shape=[None, 48, 48, 1], data_preprocessing=img_prep, data_augmentation=img_aug)\n",
    "    net = tflearn.conv_2d(net, nb_filter=16, filter_size=3, regularizer='L2', weight_decay=0.0001, trainable=False)\n",
    "    net = tflearn.residual_block(net, n, 16, trainable=False)\n",
    "    net = tflearn.residual_block(net, 1, 32, downsample=True, trainable=False)\n",
    "    net = tflearn.residual_block(net, n-1, 32, trainable=False)\n",
    "    net = tflearn.residual_block(net, 1, 64, downsample=True, trainable=False)\n",
    "    net = tflearn.residual_block(net, n-1, 64, trainable=False)\n",
    "    net = tflearn.batch_normalization(net)\n",
    "    net = tflearn.activation(net, 'relu')\n",
    "    net = tflearn.global_avg_pool(net)\n",
    "\n",
    "    print(\"regression....\")\n",
    "    # Regression\n",
    "    net = tflearn.fully_connected(net, 7, activation='softmax', restore=True)\n",
    "    mom = tflearn.Momentum(learning_rate=0.0001, lr_decay=1e-6, decay_step=2, staircase=True, momentum=0.9)\n",
    "    net = tflearn.regression(net, optimizer=mom,\n",
    "                             loss='categorical_crossentropy')\n",
    "\n",
    "    print(\"training..........\")\n",
    "    # Training\n",
    "    model = tflearn.DNN(net, checkpoint_path='jaffe-models/model_resnet_jaffe',\n",
    "                        max_checkpoints=20, tensorboard_verbose=0,\n",
    "                        clip_gradients=0.)\n",
    "\n",
    "    model.load('fer2013-model/model.tfl')\n",
    "\n",
    "    print(\"evaluating...................\")\n",
    "    score = model.evaluate(X_test, Y_test)\n",
    "    print('Test accuracy: ', score)\n",
    "\n",
    "    model.fit(X, Y, n_epoch=100, validation_set=0.1, snapshot_epoch=False, snapshot_step=200,\n",
    "              show_metric=True, batch_size=64, shuffle=True, run_id='resnet_emotion_JAFFE')\n",
    "\n",
    "    print(\"evaluating...................\")\n",
    "    score = model.evaluate(X_test, Y_test)\n",
    "    print('Test accuracy: ', score)\n",
    "\n",
    "#     model.save('jaffe-models/jaffe.model.tfl')\n",
    "#     #prediction = model.predict(predict_value)\n",
    "#     #print(prediction)\n"
   ]
  },
  {
   "cell_type": "code",
   "execution_count": null,
   "metadata": {},
   "outputs": [],
   "source": []
  }
 ],
 "metadata": {
  "kernelspec": {
   "display_name": "Python (tflearn-GPU)",
   "language": "python",
   "name": "myenv"
  },
  "language_info": {
   "codemirror_mode": {
    "name": "ipython",
    "version": 3
   },
   "file_extension": ".py",
   "mimetype": "text/x-python",
   "name": "python",
   "nbconvert_exporter": "python",
   "pygments_lexer": "ipython3",
   "version": "3.5.5"
  }
 },
 "nbformat": 4,
 "nbformat_minor": 2
}
