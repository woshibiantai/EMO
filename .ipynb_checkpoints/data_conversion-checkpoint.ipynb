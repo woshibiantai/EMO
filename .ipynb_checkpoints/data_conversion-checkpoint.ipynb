{
 "cells": [
  {
   "cell_type": "code",
   "execution_count": 69,
   "metadata": {},
   "outputs": [],
   "source": [
    "import numpy as np\n",
    "import cv2\n",
    "import matplotlib.pyplot as plt\n",
    "from pathlib import Path\n",
    "\n",
    "pathlist = Path(\"dataset/Surprise/\").glob('**/*.tiff')\n",
    "\n",
    "td = open('training_data.csv','a')\n",
    "tl = open('training_labels.csv', 'a')\n",
    "\n",
    "for path in pathlist:\n",
    "    path_in_str = str(path)\n",
    "\n",
    "    img = cv2.cvtColor(cv2.imread(path_in_str), cv2.COLOR_BGR2GRAY)\n",
    "    img = cv2.resize(img, (48,48))\n",
    "    \n",
    "    shaped = img.ravel().tolist()\n",
    "    output = \" \".join(str(v) for v in shaped)\n",
    "#     print(output)\n",
    "\n",
    "    td.write(str(output) + '\\n')\n",
    "    tl.write(str(5) + '\\n')\n",
    "    \n",
    "td.close()\n",
    "tl.close()"
   ]
  },
  {
   "cell_type": "code",
   "execution_count": null,
   "metadata": {
    "collapsed": true
   },
   "outputs": [],
   "source": [
    "# emotions = [\"Angry\", \"Disgust\", \"Fear\", \"Happy\", \"Sad\", \"Surprise\", \"Neutral\"]"
   ]
  }
 ],
 "metadata": {
  "kernelspec": {
   "display_name": "Python 3",
   "language": "python",
   "name": "python3"
  },
  "language_info": {
   "codemirror_mode": {
    "name": "ipython",
    "version": 3
   },
   "file_extension": ".py",
   "mimetype": "text/x-python",
   "name": "python",
   "nbconvert_exporter": "python",
   "pygments_lexer": "ipython3",
   "version": "3.6.1"
  }
 },
 "nbformat": 4,
 "nbformat_minor": 2
}
